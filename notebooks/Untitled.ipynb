{
 "cells": [
  {
   "cell_type": "code",
   "execution_count": 1,
   "metadata": {},
   "outputs": [],
   "source": [
    "import requests"
   ]
  },
  {
   "cell_type": "code",
   "execution_count": 2,
   "metadata": {},
   "outputs": [],
   "source": [
    "def is_url_image(image_url):\n",
    "    image_formats = (\"image/png\", \"image/jpeg\", \"image/jpg\")\n",
    "    r = requests.head(image_url)\n",
    "    if r.headers[\"content-type\"] in image_formats:\n",
    "        return True\n",
    "    return False"
   ]
  },
  {
   "cell_type": "code",
   "execution_count": 3,
   "metadata": {},
   "outputs": [],
   "source": [
    "url = \"https://uploads6.wikiart.org/images/benjamin-west/cupid-and-psyche-1808.jpg!Large.jpg\""
   ]
  },
  {
   "cell_type": "code",
   "execution_count": 4,
   "metadata": {},
   "outputs": [
    {
     "data": {
      "text/plain": [
       "False"
      ]
     },
     "execution_count": 4,
     "metadata": {},
     "output_type": "execute_result"
    }
   ],
   "source": [
    "is_url_image(url)"
   ]
  },
  {
   "cell_type": "code",
   "execution_count": 5,
   "metadata": {},
   "outputs": [],
   "source": [
    "import sys\n",
    "sys.path.append('..')"
   ]
  },
  {
   "cell_type": "code",
   "execution_count": 6,
   "metadata": {},
   "outputs": [
    {
     "name": "stderr",
     "output_type": "stream",
     "text": [
      "Using TensorFlow backend.\n"
     ]
    }
   ],
   "source": [
    "from StyleYourArt import database"
   ]
  },
  {
   "cell_type": "code",
   "execution_count": 7,
   "metadata": {},
   "outputs": [],
   "source": [
    "db = database.DB()"
   ]
  },
  {
   "cell_type": "code",
   "execution_count": 8,
   "metadata": {},
   "outputs": [],
   "source": [
    "results = list(db.get_painting_for_style(\"Baroque\", 10))"
   ]
  },
  {
   "cell_type": "code",
   "execution_count": 9,
   "metadata": {},
   "outputs": [
    {
     "name": "stdout",
     "output_type": "stream",
     "text": [
      "... loading painting data from master.csv\n",
      "... painting data imported from master.csv\n",
      "... setting dataframe schema\n",
      "... exporting unique styles to styles.csv\n",
      "... data loaded\n",
      "... finding top 25 most popular styles\n",
      "... filtering data.\n",
      "   ... record count before filtering: 169677\n",
      "   ... record count after filtering: 117050\n",
      "... replace missing values\n"
     ]
    }
   ],
   "source": [
    "from StyleYourArt import dataloader\n",
    "df_paintings = dataloader.load_clean_data('../data/csv', '../data/images/', verbose=True)"
   ]
  },
  {
   "cell_type": "code",
   "execution_count": 10,
   "metadata": {},
   "outputs": [
    {
     "data": {
      "text/plain": [
       "(117050, 14)"
      ]
     },
     "execution_count": 10,
     "metadata": {},
     "output_type": "execute_result"
    }
   ],
   "source": [
    "df_paintings.shape"
   ]
  },
  {
   "cell_type": "code",
   "execution_count": 12,
   "metadata": {},
   "outputs": [],
   "source": [
    "df_paintings['valid_url'] = np.nan"
   ]
  },
  {
   "cell_type": "code",
   "execution_count": 13,
   "metadata": {},
   "outputs": [],
   "source": [
    "import tqdm"
   ]
  },
  {
   "cell_type": "code",
   "execution_count": 24,
   "metadata": {},
   "outputs": [
    {
     "name": "stderr",
     "output_type": "stream",
     "text": [
      "117050it [17:52:23,  1.82it/s]\n"
     ]
    }
   ],
   "source": [
    "for idx, row in tqdm.tqdm(df_paintings.iterrows()):\n",
    "    row['valid_url'] = db.is_url_image(row['image'])"
   ]
  },
  {
   "cell_type": "code",
   "execution_count": 27,
   "metadata": {},
   "outputs": [
    {
     "name": "stdout",
     "output_type": "stream",
     "text": [
      "1_EDA.ipynb         3_Models.ipynb      Untitled.ipynb\r\n",
      "2_Bottleneck.ipynb  4_Predictions.ipynb\r\n"
     ]
    }
   ],
   "source": [
    "!ls"
   ]
  },
  {
   "cell_type": "code",
   "execution_count": 28,
   "metadata": {},
   "outputs": [],
   "source": [
    "backup = df_paintings.copy()\n",
    "backup.to_csv('backup.csv')"
   ]
  },
  {
   "cell_type": "code",
   "execution_count": 56,
   "metadata": {},
   "outputs": [],
   "source": [
    "df_paintings['valid_url']= df_paintings['valid_url'].astype(np.float16)\n",
    "df_paintings['valid_url'] = 2.\n",
    "df_paintings = df_paintings.reset_index()"
   ]
  },
  {
   "cell_type": "code",
   "execution_count": 57,
   "metadata": {},
   "outputs": [],
   "source": [
    "def is_url_image(image_url):\n",
    "    image_formats = (\"image/png\", \"image/jpeg\", \"image/jpg\")\n",
    "    r = requests.head(image_url)\n",
    "    if r.headers[\"content-type\"] in image_formats:\n",
    "        return 1.\n",
    "    return 0."
   ]
  },
  {
   "cell_type": "code",
   "execution_count": 67,
   "metadata": {},
   "outputs": [
    {
     "name": "stderr",
     "output_type": "stream",
     "text": [
      "100%|██████████| 117050/117050 [16:42:23<00:00,  1.95it/s]  \n"
     ]
    }
   ],
   "source": [
    "for idx in tqdm.tqdm(range(df_paintings.shape[0])):\n",
    "    if df_paintings.loc[idx, 'valid_url']==2:\n",
    "        df_paintings.loc[idx, 'valid_url'] = is_url_image(df_paintings.loc[idx, 'image'])\n",
    "    if idx%10000==0:\n",
    "        df_paintings.to_csv('backup.csv')"
   ]
  },
  {
   "cell_type": "code",
   "execution_count": 68,
   "metadata": {},
   "outputs": [],
   "source": [
    "df_paintings.to_csv('backup.csv')"
   ]
  },
  {
   "cell_type": "code",
   "execution_count": 72,
   "metadata": {},
   "outputs": [
    {
     "data": {
      "text/plain": [
       "1.0    91344\n",
       "0.0    25706\n",
       "Name: valid_url, dtype: int64"
      ]
     },
     "execution_count": 72,
     "metadata": {},
     "output_type": "execute_result"
    }
   ],
   "source": [
    "df_paintings['valid_url'].value_counts()"
   ]
  },
  {
   "cell_type": "code",
   "execution_count": 69,
   "metadata": {},
   "outputs": [
    {
     "data": {
      "text/plain": [
       "0.7803844510892781"
      ]
     },
     "execution_count": 69,
     "metadata": {},
     "output_type": "execute_result"
    }
   ],
   "source": [
    "df_paintings['valid_url'].sum() / df_paintings['valid_url'].shape[0]"
   ]
  },
  {
   "cell_type": "code",
   "execution_count": 70,
   "metadata": {},
   "outputs": [],
   "source": [
    "df_paintings.to_csv('../data/master_clean.csv')"
   ]
  },
  {
   "cell_type": "code",
   "execution_count": 73,
   "metadata": {},
   "outputs": [
    {
     "name": "stdout",
     "output_type": "stream",
     "text": [
      "... database updated\n"
     ]
    }
   ],
   "source": [
    "records = df_paintings[df_paintings['valid_url']==1.].to_dict('records')\n",
    "\n",
    "## clear existing content\n",
    "db.paintings.delete_many({})\n",
    "\n",
    "## update database\n",
    "db.paintings.insert_many(records)\n",
    "print(\"... database updated\")"
   ]
  },
  {
   "cell_type": "code",
   "execution_count": null,
   "metadata": {},
   "outputs": [],
   "source": []
  }
 ],
 "metadata": {
  "kernelspec": {
   "display_name": "Python 3.7.0 64-bit ('env': venv)",
   "language": "python",
   "name": "python37064bitenvvenvbbebeddd85e8444baf8bb866eb2f3f93"
  },
  "language_info": {
   "codemirror_mode": {
    "name": "ipython",
    "version": 3
   },
   "file_extension": ".py",
   "mimetype": "text/x-python",
   "name": "python",
   "nbconvert_exporter": "python",
   "pygments_lexer": "ipython3",
   "version": "3.7.0"
  },
  "varInspector": {
   "cols": {
    "lenName": 16,
    "lenType": 16,
    "lenVar": 40
   },
   "kernels_config": {
    "python": {
     "delete_cmd_postfix": "",
     "delete_cmd_prefix": "del ",
     "library": "var_list.py",
     "varRefreshCmd": "print(var_dic_list())"
    },
    "r": {
     "delete_cmd_postfix": ") ",
     "delete_cmd_prefix": "rm(",
     "library": "var_list.r",
     "varRefreshCmd": "cat(var_dic_list()) "
    }
   },
   "types_to_exclude": [
    "module",
    "function",
    "builtin_function_or_method",
    "instance",
    "_Feature"
   ],
   "window_display": false
  }
 },
 "nbformat": 4,
 "nbformat_minor": 4
}
