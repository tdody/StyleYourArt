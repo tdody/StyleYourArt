{
 "cells": [
  {
   "cell_type": "code",
   "execution_count": 1,
   "metadata": {},
   "outputs": [
    {
     "name": "stderr",
     "output_type": "stream",
     "text": [
      "Using TensorFlow backend.\n"
     ]
    }
   ],
   "source": [
    "import sys\n",
    "sys.path.append('..')\n",
    "from dataloader import *\n",
    "from tools import *\n",
    "from models import *\n",
    "import models\n",
    "from ipywidgets import IntProgress"
   ]
  },
  {
   "cell_type": "code",
   "execution_count": 2,
   "metadata": {},
   "outputs": [
    {
     "name": "stdout",
     "output_type": "stream",
     "text": [
      "Found 18000 images belonging to 18 classes.\n",
      "Found 3600 images belonging to 18 classes.\n",
      "...creating bottleneck features\n",
      "1125/1125 [==============================] - 2062s 2s/step\n",
      "225/225 [==============================] - 360s 2s/step\n",
      "...training model\n"
     ]
    },
    {
     "data": {
      "application/vnd.jupyter.widget-view+json": {
       "model_id": "de3f034d95f944afb7faefaa1df4b6e2",
       "version_major": 2,
       "version_minor": 0
      },
      "text/plain": [
       "HBox(children=(FloatProgress(value=0.0, description='Training', max=1.0, style=ProgressStyle(description_width…"
      ]
     },
     "metadata": {},
     "output_type": "display_data"
    },
    {
     "data": {
      "application/vnd.jupyter.widget-view+json": {
       "model_id": "cec652967135443382698b88f02c1cea",
       "version_major": 2,
       "version_minor": 0
      },
      "text/plain": [
       "HBox(children=(FloatProgress(value=0.0, description='Epoch 0', max=18000.0, style=ProgressStyle(description_wi…"
      ]
     },
     "metadata": {},
     "output_type": "display_data"
    },
    {
     "name": "stdout",
     "output_type": "stream",
     "text": [
      "\n",
      "\n",
      "Epoch 00001: val_accuracy improved from -inf to 0.05556, saving model to ../models/0_a_1000/checkpoints/0_a_1000.h5\n",
      "\n",
      "...saving model summary\n",
      "...saving training history\n",
      "...saving model weights\n",
      "...making predictions on train and test sets\n",
      "18000/18000 [==============================] - 58s 3ms/step\n",
      "3600/3600 [==============================] - 12s 3ms/step\n",
      "...update training log\n",
      "...creating confusion matrix plot\n",
      "...creating ROC-AUC plot\n",
      "...saving classification report\n"
     ]
    }
   ],
   "source": [
    "## model specific variables (iterate the version and note with each change)\n",
    "models.MODEL_DIR = \"models\"\n",
    "models.MODEL_VERSION = \"0.a_1000\"\n",
    "models.MODEL_VERSION_NOTE = \"bottleneck\"\n",
    "models.MODEL_BASE_TAG = \"ResNet50\" ## ResNet50 VGG16 InceptionV3 MobileNetV2 Xception\n",
    "train_model('../data/classes_1000', test=False, from_notebook=True, verbose=True)"
   ]
  },
  {
   "cell_type": "code",
   "execution_count": 3,
   "metadata": {},
   "outputs": [
    {
     "name": "stdout",
     "output_type": "stream",
     "text": [
      "Found 18000 images belonging to 18 classes.\n",
      "Found 3600 images belonging to 18 classes.\n",
      "...creating bottleneck features\n",
      "1125/1125 [==============================] - 4247s 4s/step\n",
      "225/225 [==============================] - 856s 4s/step\n",
      "...training model\n"
     ]
    },
    {
     "data": {
      "application/vnd.jupyter.widget-view+json": {
       "model_id": "c9c410b1fedc4db2a41ef920fd111ac1",
       "version_major": 2,
       "version_minor": 0
      },
      "text/plain": [
       "HBox(children=(FloatProgress(value=0.0, description='Training', max=1.0, style=ProgressStyle(description_width…"
      ]
     },
     "metadata": {},
     "output_type": "display_data"
    },
    {
     "data": {
      "application/vnd.jupyter.widget-view+json": {
       "model_id": "449af8f32f344da5a3c8afa9a79c2eb7",
       "version_major": 2,
       "version_minor": 0
      },
      "text/plain": [
       "HBox(children=(FloatProgress(value=0.0, description='Epoch 0', max=18000.0, style=ProgressStyle(description_wi…"
      ]
     },
     "metadata": {},
     "output_type": "display_data"
    },
    {
     "name": "stdout",
     "output_type": "stream",
     "text": [
      "\n",
      "\n",
      "Epoch 00001: val_accuracy improved from -inf to 0.05556, saving model to ../models/0_b_1000/checkpoints/0_b_1000.h5\n",
      "\n",
      "...saving model summary\n",
      "...saving training history\n",
      "...saving model weights\n",
      "...making predictions on train and test sets\n",
      "18000/18000 [==============================] - 20s 1ms/step\n",
      "3600/3600 [==============================] - 4s 1ms/step\n",
      "...update training log\n",
      "...creating confusion matrix plot\n",
      "...creating ROC-AUC plot\n",
      "...saving classification report\n"
     ]
    }
   ],
   "source": [
    "## model specific variables (iterate the version and note with each change)\n",
    "models.MODEL_DIR = \"models\"\n",
    "models.MODEL_VERSION = \"0.b_1000\"\n",
    "models.MODEL_VERSION_NOTE = \"bottleneck\"\n",
    "models.MODEL_BASE_TAG = \"VGG16\" ## ResNet50 VGG16 InceptionV3 MobileNetV2 Xception\n",
    "train_model('../data/classes_1000', test=False, from_notebook=True, verbose=True)"
   ]
  },
  {
   "cell_type": "code",
   "execution_count": 4,
   "metadata": {},
   "outputs": [
    {
     "name": "stdout",
     "output_type": "stream",
     "text": [
      "Found 18000 images belonging to 18 classes.\n",
      "Found 3600 images belonging to 18 classes.\n",
      "...creating bottleneck features\n",
      "1125/1125 [==============================] - 1177s 1s/step\n",
      "225/225 [==============================] - 218s 970ms/step\n",
      "...training model\n"
     ]
    },
    {
     "data": {
      "application/vnd.jupyter.widget-view+json": {
       "model_id": "f52067ba53c24290ac3faa7917dc9fcb",
       "version_major": 2,
       "version_minor": 0
      },
      "text/plain": [
       "HBox(children=(FloatProgress(value=0.0, description='Training', max=1.0, style=ProgressStyle(description_width…"
      ]
     },
     "metadata": {},
     "output_type": "display_data"
    },
    {
     "data": {
      "application/vnd.jupyter.widget-view+json": {
       "model_id": "394dc95b3ce24a0a83357ce04f88a91d",
       "version_major": 2,
       "version_minor": 0
      },
      "text/plain": [
       "HBox(children=(FloatProgress(value=0.0, description='Epoch 0', max=18000.0, style=ProgressStyle(description_wi…"
      ]
     },
     "metadata": {},
     "output_type": "display_data"
    },
    {
     "name": "stdout",
     "output_type": "stream",
     "text": [
      "\n",
      "\n",
      "Epoch 00001: val_accuracy improved from -inf to 0.05556, saving model to ../models/0_c_1000/checkpoints/0_c_1000.h5\n",
      "\n",
      "...saving model summary\n",
      "...saving training history\n",
      "...saving model weights\n",
      "...making predictions on train and test sets\n",
      "18000/18000 [==============================] - 23s 1ms/step\n",
      "3600/3600 [==============================] - 5s 1ms/step\n",
      "...update training log\n",
      "...creating confusion matrix plot\n",
      "...creating ROC-AUC plot\n"
     ]
    },
    {
     "name": "stderr",
     "output_type": "stream",
     "text": [
      "../tools.py:210: RuntimeWarning: More than 20 figures have been opened. Figures created through the pyplot interface (`matplotlib.pyplot.figure`) are retained until explicitly closed and may consume too much memory. (To control this warning, see the rcParam `figure.max_open_warning`).\n",
      "  \n"
     ]
    },
    {
     "name": "stdout",
     "output_type": "stream",
     "text": [
      "...saving classification report\n"
     ]
    }
   ],
   "source": [
    "## model specific variables (iterate the version and note with each change)\n",
    "models.MODEL_DIR = \"models\"\n",
    "models.MODEL_VERSION = \"0.c_1000\"\n",
    "models.MODEL_VERSION_NOTE = \"bottleneck\"\n",
    "models.MODEL_BASE_TAG = \"InceptionV3\" ## ResNet50 VGG16 InceptionV3 MobileNetV2 Xception\n",
    "train_model('../data/classes_1000', test=False, from_notebook=True, verbose=True)"
   ]
  },
  {
   "cell_type": "code",
   "execution_count": 5,
   "metadata": {},
   "outputs": [
    {
     "name": "stdout",
     "output_type": "stream",
     "text": [
      "Found 18000 images belonging to 18 classes.\n",
      "Found 3600 images belonging to 18 classes.\n",
      "...creating bottleneck features\n",
      "1125/1125 [==============================] - 933s 829ms/step\n",
      "225/225 [==============================] - 191s 851ms/step\n",
      "...training model\n"
     ]
    },
    {
     "data": {
      "application/vnd.jupyter.widget-view+json": {
       "model_id": "a01cd2e64c36460cb49048f57930a2c8",
       "version_major": 2,
       "version_minor": 0
      },
      "text/plain": [
       "HBox(children=(FloatProgress(value=0.0, description='Training', max=1.0, style=ProgressStyle(description_width…"
      ]
     },
     "metadata": {},
     "output_type": "display_data"
    },
    {
     "data": {
      "application/vnd.jupyter.widget-view+json": {
       "model_id": "244d05037b6f45cabc84b3d51f7ae81a",
       "version_major": 2,
       "version_minor": 0
      },
      "text/plain": [
       "HBox(children=(FloatProgress(value=0.0, description='Epoch 0', max=18000.0, style=ProgressStyle(description_wi…"
      ]
     },
     "metadata": {},
     "output_type": "display_data"
    },
    {
     "name": "stdout",
     "output_type": "stream",
     "text": [
      "\n",
      "\n",
      "Epoch 00001: val_accuracy improved from -inf to 0.05556, saving model to ../models/0_d_1000/checkpoints/0_d_1000.h5\n",
      "\n",
      "...saving model summary\n",
      "...saving training history\n"
     ]
    },
    {
     "name": "stderr",
     "output_type": "stream",
     "text": [
      "../tools.py:255: RuntimeWarning: More than 20 figures have been opened. Figures created through the pyplot interface (`matplotlib.pyplot.figure`) are retained until explicitly closed and may consume too much memory. (To control this warning, see the rcParam `figure.max_open_warning`).\n",
      "  \n"
     ]
    },
    {
     "name": "stdout",
     "output_type": "stream",
     "text": [
      "...saving model weights\n",
      "...making predictions on train and test sets\n",
      "18000/18000 [==============================] - 29s 2ms/step\n",
      "3600/3600 [==============================] - 6s 2ms/step\n",
      "...update training log\n",
      "...creating confusion matrix plot\n"
     ]
    },
    {
     "name": "stderr",
     "output_type": "stream",
     "text": [
      "../tools.py:132: RuntimeWarning: More than 20 figures have been opened. Figures created through the pyplot interface (`matplotlib.pyplot.figure`) are retained until explicitly closed and may consume too much memory. (To control this warning, see the rcParam `figure.max_open_warning`).\n",
      "  cm = cm.astype('float') / cm.sum(axis=1)[:, np.newaxis]\n"
     ]
    },
    {
     "name": "stdout",
     "output_type": "stream",
     "text": [
      "...creating ROC-AUC plot\n"
     ]
    },
    {
     "name": "stderr",
     "output_type": "stream",
     "text": [
      "../tools.py:210: RuntimeWarning: More than 20 figures have been opened. Figures created through the pyplot interface (`matplotlib.pyplot.figure`) are retained until explicitly closed and may consume too much memory. (To control this warning, see the rcParam `figure.max_open_warning`).\n",
      "  \n",
      "../tools.py:210: RuntimeWarning: More than 20 figures have been opened. Figures created through the pyplot interface (`matplotlib.pyplot.figure`) are retained until explicitly closed and may consume too much memory. (To control this warning, see the rcParam `figure.max_open_warning`).\n",
      "  \n"
     ]
    },
    {
     "name": "stdout",
     "output_type": "stream",
     "text": [
      "...saving classification report\n"
     ]
    }
   ],
   "source": [
    "## model specific variables (iterate the version and note with each change)\n",
    "models.MODEL_DIR = \"models\"\n",
    "models.MODEL_VERSION = \"0.d_1000\"\n",
    "models.MODEL_VERSION_NOTE = \"bottleneck\"\n",
    "models.MODEL_BASE_TAG = \"MobileNetV2\" ## ResNet50 VGG16 InceptionV3 MobileNetV2 Xception\n",
    "train_model('../data/classes_1000', test=False, from_notebook=True, verbose=True)"
   ]
  },
  {
   "cell_type": "code",
   "execution_count": 6,
   "metadata": {},
   "outputs": [
    {
     "name": "stdout",
     "output_type": "stream",
     "text": [
      "Found 18000 images belonging to 18 classes.\n",
      "Found 3600 images belonging to 18 classes.\n",
      "...creating bottleneck features\n",
      "1125/1125 [==============================] - 2415s 2s/step\n",
      "225/225 [==============================] - 415s 2s/step\n",
      "...training model\n"
     ]
    },
    {
     "data": {
      "application/vnd.jupyter.widget-view+json": {
       "model_id": "3298b5491b1e41c8bc9a6eb67a2c592c",
       "version_major": 2,
       "version_minor": 0
      },
      "text/plain": [
       "HBox(children=(FloatProgress(value=0.0, description='Training', max=1.0, style=ProgressStyle(description_width…"
      ]
     },
     "metadata": {},
     "output_type": "display_data"
    },
    {
     "data": {
      "application/vnd.jupyter.widget-view+json": {
       "model_id": "e47ba2dd3c004c899f71dbf9ed124664",
       "version_major": 2,
       "version_minor": 0
      },
      "text/plain": [
       "HBox(children=(FloatProgress(value=0.0, description='Epoch 0', max=18000.0, style=ProgressStyle(description_wi…"
      ]
     },
     "metadata": {},
     "output_type": "display_data"
    },
    {
     "name": "stdout",
     "output_type": "stream",
     "text": [
      "\n",
      "\n",
      "Epoch 00001: val_accuracy improved from -inf to 0.05556, saving model to ../models/0_e_1000/checkpoints/0_e_1000.h5\n",
      "\n",
      "...saving model summary\n",
      "...saving training history\n"
     ]
    },
    {
     "name": "stderr",
     "output_type": "stream",
     "text": [
      "../tools.py:255: RuntimeWarning: More than 20 figures have been opened. Figures created through the pyplot interface (`matplotlib.pyplot.figure`) are retained until explicitly closed and may consume too much memory. (To control this warning, see the rcParam `figure.max_open_warning`).\n",
      "  \n"
     ]
    },
    {
     "name": "stdout",
     "output_type": "stream",
     "text": [
      "...saving model weights\n",
      "...making predictions on train and test sets\n",
      "18000/18000 [==============================] - 44s 2ms/step\n",
      "3600/3600 [==============================] - 9s 2ms/step\n",
      "...update training log\n",
      "...creating confusion matrix plot\n"
     ]
    },
    {
     "name": "stderr",
     "output_type": "stream",
     "text": [
      "../tools.py:132: RuntimeWarning: More than 20 figures have been opened. Figures created through the pyplot interface (`matplotlib.pyplot.figure`) are retained until explicitly closed and may consume too much memory. (To control this warning, see the rcParam `figure.max_open_warning`).\n",
      "  cm = cm.astype('float') / cm.sum(axis=1)[:, np.newaxis]\n"
     ]
    },
    {
     "name": "stdout",
     "output_type": "stream",
     "text": [
      "...creating ROC-AUC plot\n"
     ]
    },
    {
     "name": "stderr",
     "output_type": "stream",
     "text": [
      "../tools.py:210: RuntimeWarning: More than 20 figures have been opened. Figures created through the pyplot interface (`matplotlib.pyplot.figure`) are retained until explicitly closed and may consume too much memory. (To control this warning, see the rcParam `figure.max_open_warning`).\n",
      "  \n",
      "../tools.py:210: RuntimeWarning: More than 20 figures have been opened. Figures created through the pyplot interface (`matplotlib.pyplot.figure`) are retained until explicitly closed and may consume too much memory. (To control this warning, see the rcParam `figure.max_open_warning`).\n",
      "  \n"
     ]
    },
    {
     "name": "stdout",
     "output_type": "stream",
     "text": [
      "...saving classification report\n"
     ]
    }
   ],
   "source": [
    "## model specific variables (iterate the version and note with each change)\n",
    "models.MODEL_DIR = \"models\"\n",
    "models.MODEL_VERSION = \"0.e_1000\"\n",
    "models.MODEL_VERSION_NOTE = \"bottleneck\"\n",
    "models.MODEL_BASE_TAG = \"Xception\" ## ResNet50 VGG16 InceptionV3 MobileNetV2 Xception\n",
    "train_model('../data/classes_1000', test=False, from_notebook=True, verbose=True)"
   ]
  }
 ],
 "metadata": {
  "kernelspec": {
   "display_name": "Python 3.7.0 64-bit ('env': venv)",
   "language": "python",
   "name": "python37064bitenvvenvbbebeddd85e8444baf8bb866eb2f3f93"
  },
  "language_info": {
   "codemirror_mode": {
    "name": "ipython",
    "version": 3
   },
   "file_extension": ".py",
   "mimetype": "text/x-python",
   "name": "python",
   "nbconvert_exporter": "python",
   "pygments_lexer": "ipython3",
   "version": "3.7.0"
  },
  "varInspector": {
   "cols": {
    "lenName": 16,
    "lenType": 16,
    "lenVar": 40
   },
   "kernels_config": {
    "python": {
     "delete_cmd_postfix": "",
     "delete_cmd_prefix": "del ",
     "library": "var_list.py",
     "varRefreshCmd": "print(var_dic_list())"
    },
    "r": {
     "delete_cmd_postfix": ") ",
     "delete_cmd_prefix": "rm(",
     "library": "var_list.r",
     "varRefreshCmd": "cat(var_dic_list()) "
    }
   },
   "types_to_exclude": [
    "module",
    "function",
    "builtin_function_or_method",
    "instance",
    "_Feature"
   ],
   "window_display": false
  }
 },
 "nbformat": 4,
 "nbformat_minor": 4
}
